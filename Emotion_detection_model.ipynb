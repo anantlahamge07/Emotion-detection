{
 "cells": [
  {
   "cell_type": "code",
   "execution_count": 10,
   "id": "d3e4ce1c-cbe0-49a8-b64a-7d1ee202fb6c",
   "metadata": {},
   "outputs": [],
   "source": [
    "import pandas as pd\n",
    "import matplotlib.pyplot as plt\n",
    "import tensorflow as tf\n",
    "\n",
    "import os \n",
    "import cv2\n",
    "from sklearn.model_selection import train_test_split\n",
    "from tensorflow.keras import datasets, models, layers\n"
   ]
  },
  {
   "cell_type": "code",
   "execution_count": 11,
   "id": "29040012-cd72-4741-802c-28e1c79bb7d3",
   "metadata": {},
   "outputs": [],
   "source": [
    "data = pd.read_csv('.csv')"
   ]
  },
  {
   "cell_type": "code",
   "execution_count": 12,
   "id": "b9f32b45-a5f1-4ce3-a937-3d26b11438ee",
   "metadata": {},
   "outputs": [
    {
     "data": {
      "text/html": [
       "<div>\n",
       "<style scoped>\n",
       "    .dataframe tbody tr th:only-of-type {\n",
       "        vertical-align: middle;\n",
       "    }\n",
       "\n",
       "    .dataframe tbody tr th {\n",
       "        vertical-align: top;\n",
       "    }\n",
       "\n",
       "    .dataframe thead th {\n",
       "        text-align: right;\n",
       "    }\n",
       "</style>\n",
       "<table border=\"1\" class=\"dataframe\">\n",
       "  <thead>\n",
       "    <tr style=\"text-align: right;\">\n",
       "      <th></th>\n",
       "      <th>emotion</th>\n",
       "      <th>pixels</th>\n",
       "      <th>Usage</th>\n",
       "    </tr>\n",
       "  </thead>\n",
       "  <tbody>\n",
       "    <tr>\n",
       "      <th>0</th>\n",
       "      <td>6</td>\n",
       "      <td>36 39 35 25 19 11 8 7 3 13 15 9 21 57 75 90 10...</td>\n",
       "      <td>Training</td>\n",
       "    </tr>\n",
       "    <tr>\n",
       "      <th>1</th>\n",
       "      <td>6</td>\n",
       "      <td>88 74 19 4 5 5 3 12 8 21 15 21 15 18 24 29 32 ...</td>\n",
       "      <td>Training</td>\n",
       "    </tr>\n",
       "    <tr>\n",
       "      <th>2</th>\n",
       "      <td>6</td>\n",
       "      <td>9 2 4 7 1 1 1 0 7 29 49 76 115 141 156 169 177...</td>\n",
       "      <td>Training</td>\n",
       "    </tr>\n",
       "    <tr>\n",
       "      <th>3</th>\n",
       "      <td>6</td>\n",
       "      <td>104 106 108 104 95 50 60 61 58 83 126 133 139 ...</td>\n",
       "      <td>Training</td>\n",
       "    </tr>\n",
       "    <tr>\n",
       "      <th>4</th>\n",
       "      <td>6</td>\n",
       "      <td>68 72 67 67 6 2 1 1 1 1 1 14 24 24 38 65 79 94...</td>\n",
       "      <td>Training</td>\n",
       "    </tr>\n",
       "    <tr>\n",
       "      <th>...</th>\n",
       "      <td>...</td>\n",
       "      <td>...</td>\n",
       "      <td>...</td>\n",
       "    </tr>\n",
       "    <tr>\n",
       "      <th>915</th>\n",
       "      <td>5</td>\n",
       "      <td>87 86 88 92 92 127 231 248 251 253 254 254 254...</td>\n",
       "      <td>PrivateTest</td>\n",
       "    </tr>\n",
       "    <tr>\n",
       "      <th>916</th>\n",
       "      <td>5</td>\n",
       "      <td>21 24 26 28 27 28 30 8 0 0 0 0 0 0 1 4 37 42 4...</td>\n",
       "      <td>PrivateTest</td>\n",
       "    </tr>\n",
       "    <tr>\n",
       "      <th>917</th>\n",
       "      <td>5</td>\n",
       "      <td>76 40 31 38 28 34 38 36 41 36 46 38 44 26 45 5...</td>\n",
       "      <td>PrivateTest</td>\n",
       "    </tr>\n",
       "    <tr>\n",
       "      <th>918</th>\n",
       "      <td>5</td>\n",
       "      <td>114 87 16 29 17 25 30 34 37 35 45 93 63 80 73 ...</td>\n",
       "      <td>PrivateTest</td>\n",
       "    </tr>\n",
       "    <tr>\n",
       "      <th>919</th>\n",
       "      <td>5</td>\n",
       "      <td>101 102 99 96 98 42 23 18 15 17 27 34 17 24 29...</td>\n",
       "      <td>PrivateTest</td>\n",
       "    </tr>\n",
       "  </tbody>\n",
       "</table>\n",
       "<p>920 rows × 3 columns</p>\n",
       "</div>"
      ],
      "text/plain": [
       "     emotion                                             pixels        Usage\n",
       "0          6  36 39 35 25 19 11 8 7 3 13 15 9 21 57 75 90 10...     Training\n",
       "1          6  88 74 19 4 5 5 3 12 8 21 15 21 15 18 24 29 32 ...     Training\n",
       "2          6  9 2 4 7 1 1 1 0 7 29 49 76 115 141 156 169 177...     Training\n",
       "3          6  104 106 108 104 95 50 60 61 58 83 126 133 139 ...     Training\n",
       "4          6  68 72 67 67 6 2 1 1 1 1 1 14 24 24 38 65 79 94...     Training\n",
       "..       ...                                                ...          ...\n",
       "915        5  87 86 88 92 92 127 231 248 251 253 254 254 254...  PrivateTest\n",
       "916        5  21 24 26 28 27 28 30 8 0 0 0 0 0 0 1 4 37 42 4...  PrivateTest\n",
       "917        5  76 40 31 38 28 34 38 36 41 36 46 38 44 26 45 5...  PrivateTest\n",
       "918        5  114 87 16 29 17 25 30 34 37 35 45 93 63 80 73 ...  PrivateTest\n",
       "919        5  101 102 99 96 98 42 23 18 15 17 27 34 17 24 29...  PrivateTest\n",
       "\n",
       "[920 rows x 3 columns]"
      ]
     },
     "execution_count": 12,
     "metadata": {},
     "output_type": "execute_result"
    }
   ],
   "source": [
    "data"
   ]
  },
  {
   "cell_type": "code",
   "execution_count": 1,
   "id": "67d04667-79c9-431d-99ed-8f37f17839bb",
   "metadata": {},
   "outputs": [
    {
     "name": "stdout",
     "output_type": "stream",
     "text": [
      "Num GPUs Available: 0\n"
     ]
    }
   ],
   "source": [
    "import tensorflow as tf\n",
    "\n",
    "print(\"Num GPUs Available:\", len(tf.config.list_physical_devices('GPU')))\n"
   ]
  },
  {
   "cell_type": "code",
   "execution_count": null,
   "id": "927793a6-663d-424d-8b19-cd34dbce6b8c",
   "metadata": {},
   "outputs": [],
   "source": []
  }
 ],
 "metadata": {
  "kernelspec": {
   "display_name": "Python 3 (ipykernel)",
   "language": "python",
   "name": "python3"
  },
  "language_info": {
   "codemirror_mode": {
    "name": "ipython",
    "version": 3
   },
   "file_extension": ".py",
   "mimetype": "text/x-python",
   "name": "python",
   "nbconvert_exporter": "python",
   "pygments_lexer": "ipython3",
   "version": "3.10.0"
  }
 },
 "nbformat": 4,
 "nbformat_minor": 5
}
